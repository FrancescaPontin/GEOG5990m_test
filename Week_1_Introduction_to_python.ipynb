{
 "cells": [
  {
   "cell_type": "markdown",
   "metadata": {},
   "source": [
    "\n",
    "# GEOG59950 Week 1: Getting started with Python\n",
    "\n",
    "Contact: F.L.Pontin@leeds.ac.uk <a class=\"tocSkip\">"
   ]
  },
  {
   "cell_type": "markdown",
   "metadata": {},
   "source": [
    "### Hiding Generative AI assistance\n",
    "\n",
    "Before we get started a note on AI. Generative AI might seem like the answer, but until you have a good baseline knowledge in programming it stops you learning from your mistakes (what coding is all about). So we are going to turn-off the in-built AI in colab. \n",
    "\n",
    "1. In the menu click: Tools > Settings\n",
    "2. In the pop-out 'Settings' box you will see a menu on the left-hand side (Site, Editor etc.), go down to AI assistance.\n",
    "3. Select 'Hide Generative AI' and deselect all other options\n",
    "4. Click 'close' in the bottom right-hand corner\n",
    "\n",
    "![Screenshot showing location of generative AI button](../screenshots/Generative_AI_collab.png)\n",
    "\n"
   ]
  },
  {
   "cell_type": "markdown",
   "metadata": {},
   "source": [
    "## Using Jupyter notebooks\n",
    "\n",
    "Welcome to coding in Python! This course is designed to introduce you to the basics of coding in Python and then get you to apply your new-found coding skills to carry out some spatial data analytics! \n",
    "This session is written in a Jupyter Notebook. A Jupyter Notebook [\"is an open source web application that you can use to create and share documents that contain live code, equations, visualizations, and text\"](https://realpython.com/jupyter-notebook-introduction/). \n",
    "\n",
    "A Jupyter Notebook is made up of cells. These cells can contain text (known as markdown), code, images and many other formats. \n",
    " E.g. \n",
    "To select a cell click on the text or grey cell containing code and a thin grey line will appear around the cell and a small toolbar will appear on the top right-hand side of the cell. <br>\n",
    "\n",
    "![Select text cell](../screenshots/Select_text_cell_colab.png)\n",
    "![Select code cell](../screenshots/Select_code_cell_colab.png)\n",
    "\n",
    "\n",
    "Have a look at all the functions on the right-hand toolbar ('Move up', 'Move down', 'Copy link to cell', 'Edit', etc...)\n",
    "\n",
    "\n",
    "To edit a text cell click in it twice, a toolbar will appear at the top of the cell, the left hand-side will show the raw text and right-hand side shows the 'rendered' code. \n",
    "\n",
    "![Edit text cell](../screenshots/Edit_text_cell_colab.png)"
   ]
  },
  {
   "cell_type": "markdown",
   "metadata": {},
   "source": [
    "During the teaching session you will read through the Jupyter Notebok, running sections of code yourself to learn key data analysis skills. There will also be places to edit and write your own code within the notebook.\n",
    "\n",
    "*  <b><font color='orchid'>Instructions and tasks for you to complete are in purple</font></b>\n",
    "    \n",
    "*  <b>Where you have to write your own code answers are provided at the end of the section</b> \n",
    "\n",
    "#### How to run a cell of code\n",
    "To run code select the cell you want to run (the blue box will appear arround the selected cell) and then EITHER:\n",
    "\n",
    "1) type CTRL + ENTER on your key board (SHIFT + ENTER or CMD + ENTER for mac)\n",
    "\n",
    "2) click the play button to the left of the cell\n",
    "\n",
    "![Run a cell](../screenshots/Run_cell_colab.png)"
   ]
  },
  {
   "cell_type": "markdown",
   "metadata": {},
   "source": [
    "### How do I know if I have run the cell?\n",
    "If the cell of code has been run a number will appear in squared brackets by the cell  e.g. <code>In [1]: or In [12]:</code>\n",
    "\n",
    "The numbering refers to the order in which you have run the cells\n",
    "\n",
    "An un-run cell of code has an empty set of squared brackets by the cell I.e. <code>In []:</code>\n",
    "\n",
    "A green tick will appear to the left (if the cell has run correctly):\n",
    "\n",
    "![Cell has run](../screenshots/Cell_has_run.png)"
   ]
  },
  {
   "cell_type": "markdown",
   "metadata": {},
   "source": [
    "### How do I add a new cell?<a id='new_cell'></a>\n",
    "\n",
    "To add a new cell select a cell and hover at the bottom of the cell, select either \"+ Code\" or \"+ Text\". This will add a new code cell or text cell below the selected cell. Do the same at the top of the cell to add a new cell before the selected cell.\n",
    "\n",
    "![Add a cell](../screenshots/Add_a_cell.png)\n",
    "\n",
    "To delete a cell use the tool bar on the right-hand side. "
   ]
  },
  {
   "cell_type": "markdown",
   "metadata": {},
   "source": [
    "## Hello World"
   ]
  },
  {
   "cell_type": "markdown",
   "metadata": {},
   "source": [
    "Following coding tradition the first thing we are going to program is to print the words \"Hello World\".\n",
    "\n",
    "The <code>print() </code> function prints the specified message to your screen\n",
    "\n",
    "The speech marks <code>\" \"</code> arround Hello World let python know you are typing text (also known as a string).\n",
    "\n",
    " <font color='orchid'> <b>Run the code below</b></font>"
   ]
  },
  {
   "cell_type": "code",
   "execution_count": null,
   "metadata": {},
   "outputs": [],
   "source": [
    "print(\"Hello World\")"
   ]
  },
  {
   "cell_type": "markdown",
   "metadata": {},
   "source": [
    "## Basic maths"
   ]
  },
  {
   "cell_type": "markdown",
   "metadata": {},
   "source": [
    "Lets do some basic maths \n",
    "<br><font color='orchid'> <b>Run the code below</b></font>"
   ]
  },
  {
   "cell_type": "code",
   "execution_count": null,
   "metadata": {},
   "outputs": [],
   "source": [
    "2+2"
   ]
  },
  {
   "cell_type": "markdown",
   "metadata": {},
   "source": [
    "If we print 2+2 we get the same thing\n",
    "<br> <font color='orchid'> <b>Run the code below</b></font>"
   ]
  },
  {
   "cell_type": "code",
   "execution_count": null,
   "metadata": {},
   "outputs": [],
   "source": [
    "print(2+2)"
   ]
  },
  {
   "cell_type": "markdown",
   "metadata": {},
   "source": [
    "If we <code>print(\"2+2\")</code> however we get the characters 2 + 2 as the speach marks tell Python we are typing text and not numerical characters\n",
    "\n",
    "\n",
    "<br> <font color='orchid'> <b>Run the code below</b></font> and see for yourself"
   ]
  },
  {
   "cell_type": "code",
   "execution_count": null,
   "metadata": {
    "scrolled": true
   },
   "outputs": [],
   "source": [
    "print(\"2+2\")"
   ]
  },
  {
   "cell_type": "markdown",
   "metadata": {},
   "source": [
    "### Subtraction, Multiplication and Division\n",
    "The folliwng symbols are used for other basic mathmatical functions\n",
    "- subtraction: <b>-</b>\n",
    "- Multiplication: <b>*</b>\n",
    "- division: <b>/</b>\n",
    "\n",
    "<br> <font color='orchid'> <b> Write some of your own mathmatical lines of code </font>"
   ]
  },
  {
   "cell_type": "code",
   "execution_count": null,
   "metadata": {},
   "outputs": [],
   "source": []
  },
  {
   "cell_type": "code",
   "execution_count": null,
   "metadata": {},
   "outputs": [],
   "source": []
  },
  {
   "cell_type": "markdown",
   "metadata": {},
   "source": [
    "## Assigning values to variables\n",
    "\n",
    "We can also assign the sum 2+2 to a variable. \n",
    "\n",
    "In this case we have named the variable <font color='blue'>answer</font>. We can now type <font color='blue'>answer</font> instead of 2+2 every time.\n",
    "\n",
    "<br> <font color='orchid'> <b>To assign 2+2 to the variable answer run the code below</b></font>"
   ]
  },
  {
   "cell_type": "code",
   "execution_count": null,
   "metadata": {},
   "outputs": [],
   "source": [
    "answer = 2+2\n",
    "print(answer)"
   ]
  },
  {
   "cell_type": "markdown",
   "metadata": {},
   "source": [
    "We can also add our created variable to a new equation\n",
    "<br> <font color='orchid'> <b>To add 5 to the variable answer run the code below</b></font>"
   ]
  },
  {
   "cell_type": "code",
   "execution_count": null,
   "metadata": {},
   "outputs": [],
   "source": [
    "# we can also add our created variable to a new equation\n",
    "answer + 5"
   ]
  },
  {
   "cell_type": "markdown",
   "metadata": {},
   "source": [
    "NOTE: <code>#</code> When a hashtag is added to a line of code the rest of that line is not treated as code.\n",
    "This can be used to add comments to your code so you know what it is doing (especially useful when you come back to it later on!)"
   ]
  },
  {
   "cell_type": "markdown",
   "metadata": {},
   "source": [
    "## Congratualtions you have written your first few lines of code"
   ]
  }
 ],
 "metadata": {
  "kernelspec": {
   "display_name": "Python 3 (ipykernel)",
   "language": "python",
   "name": "python3"
  },
  "language_info": {
   "codemirror_mode": {
    "name": "ipython",
    "version": 3
   },
   "file_extension": ".py",
   "mimetype": "text/x-python",
   "name": "python",
   "nbconvert_exporter": "python",
   "pygments_lexer": "ipython3",
   "version": "3.11.7"
  },
  "toc": {
   "base_numbering": 1,
   "nav_menu": {},
   "number_sections": true,
   "sideBar": true,
   "skip_h1_title": false,
   "title_cell": "Table of Contents",
   "title_sidebar": "Contents",
   "toc_cell": false,
   "toc_position": {
    "height": "calc(100% - 180px)",
    "left": "10px",
    "top": "150px",
    "width": "400.11029052734375px"
   },
   "toc_section_display": true,
   "toc_window_display": true
  }
 },
 "nbformat": 4,
 "nbformat_minor": 4
}
