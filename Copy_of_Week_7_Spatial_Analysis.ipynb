{
  "cells": [
    {
      "cell_type": "markdown",
      "metadata": {
        "id": "view-in-github",
        "colab_type": "text"
      },
      "source": [
        "<a href=\"https://colab.research.google.com/github/FrancescaPontin/GEOG5990m_test/blob/main/Copy_of_Week_7_Spatial_Analysis.ipynb\" target=\"_parent\"><img src=\"https://colab.research.google.com/assets/colab-badge.svg\" alt=\"Open In Colab\"/></a>"
      ]
    },
    {
      "cell_type": "markdown",
      "id": "57281161-4f8e-4496-a9c3-bee409f6e7b7",
      "metadata": {
        "id": "57281161-4f8e-4496-a9c3-bee409f6e7b7"
      },
      "source": [
        "# Spatial Analysis and Machine Learning"
      ]
    },
    {
      "cell_type": "code",
      "execution_count": null,
      "id": "8378c7ea-61d0-4ec5-9eb7-23212c30f065",
      "metadata": {
        "id": "8378c7ea-61d0-4ec5-9eb7-23212c30f065"
      },
      "outputs": [],
      "source": [
        "# import required packages\n",
        "import geopandas as gpd\n",
        "import pandas as pd\n",
        "import seaborn as sns\n",
        "from scipy import stats\n",
        "import numpy as np\n",
        "\n",
        "import matplotlib.pyplot as plt\n",
        "\n",
        "# import the required machine learning packages\n",
        "from sklearn import cluster\n",
        "from sklearn.preprocessing import scale\n",
        "\n",
        "# set seaborn plotting theme to white\n",
        "sns.set_theme(style=\"white\")"
      ]
    },
    {
      "cell_type": "code",
      "execution_count": null,
      "id": "34fa940c",
      "metadata": {
        "id": "34fa940c"
      },
      "outputs": [],
      "source": [
        "# colab users only - uncomment to run\n",
        "!pip install mapclassify"
      ]
    },
    {
      "cell_type": "markdown",
      "id": "0832ab18-3650-4d76-9cc2-881fb96d5928",
      "metadata": {
        "id": "0832ab18-3650-4d76-9cc2-881fb96d5928"
      },
      "source": [
        "## Data Exploration and Preparation\n",
        "### Read in the Priority Places for Food Index (PPFI) data"
      ]
    },
    {
      "cell_type": "code",
      "execution_count": null,
      "id": "cf2d1f70-81b1-457c-9aa6-0c61da518a6b",
      "metadata": {
        "id": "cf2d1f70-81b1-457c-9aa6-0c61da518a6b"
      },
      "outputs": [],
      "source": [
        "PPFI = pd.read_csv('https://github.com/FrancescaPontin/GEOG5990M/raw/refs/heads/main/data/week_20/ppfi_index_v2_nov2023.csv')"
      ]
    },
    {
      "cell_type": "code",
      "execution_count": null,
      "id": "7e95ab74-3421-4eb1-80df-867f5aa64058",
      "metadata": {
        "id": "7e95ab74-3421-4eb1-80df-867f5aa64058"
      },
      "outputs": [],
      "source": [
        "PPFI.head()"
      ]
    },
    {
      "cell_type": "markdown",
      "id": "86e3dc2d-e406-48d3-bc57-7466b06916a6",
      "metadata": {
        "id": "86e3dc2d-e406-48d3-bc57-7466b06916a6"
      },
      "source": [
        "Write a few lines of code to explore the data"
      ]
    },
    {
      "cell_type": "code",
      "execution_count": null,
      "id": "606955ce-d0ce-4d75-84fe-4609e529c7d5",
      "metadata": {
        "id": "606955ce-d0ce-4d75-84fe-4609e529c7d5"
      },
      "outputs": [],
      "source": [
        "# explore data types"
      ]
    },
    {
      "cell_type": "code",
      "execution_count": null,
      "id": "1561ef22-b1c3-48c8-bf24-41ef1ae3db27",
      "metadata": {
        "id": "1561ef22-b1c3-48c8-bf24-41ef1ae3db27"
      },
      "outputs": [],
      "source": []
    },
    {
      "cell_type": "code",
      "execution_count": null,
      "id": "bdf22931-a10d-4584-bb28-7c6464ec2690",
      "metadata": {
        "id": "bdf22931-a10d-4584-bb28-7c6464ec2690"
      },
      "outputs": [],
      "source": []
    },
    {
      "cell_type": "markdown",
      "id": "41236ad7-6eb6-4f04-8581-34ec9f09f9ec",
      "metadata": {
        "id": "41236ad7-6eb6-4f04-8581-34ec9f09f9ec"
      },
      "source": [
        "### Read in the spatial dataframe\n",
        "\n",
        "Read in the LSOA shp file for Leeds\n"
      ]
    },
    {
      "cell_type": "code",
      "execution_count": null,
      "id": "f114fa4d-a451-4d28-a3c0-e1fe314dc4ff",
      "metadata": {
        "id": "f114fa4d-a451-4d28-a3c0-e1fe314dc4ff"
      },
      "outputs": [],
      "source": [
        "leeds_shp =gpd.read_file('https://github.com/FrancescaPontin/GEOG5990M/raw/refs/heads/main/data/week_20/Leeds.geojson')"
      ]
    },
    {
      "cell_type": "code",
      "execution_count": null,
      "id": "ebabf459-2542-4a24-94df-0884211827f3",
      "metadata": {
        "id": "ebabf459-2542-4a24-94df-0884211827f3"
      },
      "outputs": [],
      "source": [
        "leeds_shp.head()"
      ]
    },
    {
      "cell_type": "markdown",
      "id": "40411aa9-e8ef-4584-a2c3-18925db9a3f7",
      "metadata": {
        "id": "40411aa9-e8ef-4584-a2c3-18925db9a3f7"
      },
      "source": [
        "I have included the code below for generating the Leeds shp file, for reference for your final project.\n",
        "We will talk more about finding and downloading data in the coming weeks"
      ]
    },
    {
      "cell_type": "code",
      "execution_count": null,
      "id": "df38cd75-7e76-43fe-bad8-bd09fa10acdc",
      "metadata": {
        "id": "df38cd75-7e76-43fe-bad8-bd09fa10acdc"
      },
      "outputs": [],
      "source": [
        "# # Data downloaded from https://geoportal.statistics.gov.uk/maps/761ecd09b4124843b95511a242e2b1a1\n",
        "# shp =gpd.read_file('/Users/fran/Downloads/Lower_layer_Super_Output_Areas_2021_EW_BFE_V9_-3647710721716634062.geojson')\n",
        "# leeds_shp =shp.loc[shp['LSOA21NM'].str.contains('Leeds'),:]\n",
        "# leeds_shp.to_file('Leeds.geojson')"
      ]
    },
    {
      "cell_type": "markdown",
      "id": "921ae8a0-ee14-4643-96da-9eda20115d11",
      "metadata": {
        "id": "921ae8a0-ee14-4643-96da-9eda20115d11"
      },
      "source": [
        "### Explore, the spatial dataframe"
      ]
    },
    {
      "cell_type": "code",
      "execution_count": null,
      "id": "a36c2883-75b6-4a01-8ef8-8b3c6c75158e",
      "metadata": {
        "id": "a36c2883-75b6-4a01-8ef8-8b3c6c75158e"
      },
      "outputs": [],
      "source": [
        "leeds_shp.explore()"
      ]
    },
    {
      "cell_type": "markdown",
      "id": "f3f5efe0-ddb3-408f-8ac5-b3eba836201b",
      "metadata": {
        "id": "f3f5efe0-ddb3-408f-8ac5-b3eba836201b"
      },
      "source": [
        "### Join the PPFI data to the spatial dataframe of Leeds"
      ]
    },
    {
      "cell_type": "code",
      "execution_count": null,
      "id": "12f447ff-f8ee-4854-8283-bdb8127533b5",
      "metadata": {
        "id": "12f447ff-f8ee-4854-8283-bdb8127533b5"
      },
      "outputs": [],
      "source": [
        "# join the PPFI data to the leeds_shp geodataframe using a lefthand join, on the common ID 'LSOA21CD'/'lsoa21cd'\n",
        "leeds_PPFI =leeds_shp.merge(PPFI, how='left',left_on='LSOA21CD',right_on='lsoa21cd')"
      ]
    },
    {
      "cell_type": "code",
      "execution_count": null,
      "id": "6f31278a-9f26-4016-bc0e-d71f5e91ab1b",
      "metadata": {
        "id": "6f31278a-9f26-4016-bc0e-d71f5e91ab1b"
      },
      "outputs": [],
      "source": [
        "leeds_PPFI.columns"
      ]
    },
    {
      "cell_type": "code",
      "execution_count": null,
      "id": "3a50c941-fc8c-4b2b-a912-560d9b953f76",
      "metadata": {
        "id": "3a50c941-fc8c-4b2b-a912-560d9b953f76"
      },
      "outputs": [],
      "source": [
        "# map to check it has worked\n",
        "\n",
        "# look at where is higher risk of Food Insecurity, don't forget smaller numbers = 'higher priority'\n",
        "leeds_PPFI.explore('pp_dec_combined', cmap='Reds_r')"
      ]
    },
    {
      "cell_type": "markdown",
      "id": "a5b2a2f1-6ace-4618-bf05-7cacec397efc",
      "metadata": {
        "id": "a5b2a2f1-6ace-4618-bf05-7cacec397efc"
      },
      "source": [
        "### Maping the Priority Places for Food Index Deciles in Leeds"
      ]
    },
    {
      "cell_type": "code",
      "execution_count": null,
      "id": "de50da4c-d115-4c3c-84de-d6d9f0e2ff66",
      "metadata": {
        "id": "de50da4c-d115-4c3c-84de-d6d9f0e2ff66"
      },
      "outputs": [],
      "source": [
        "# create a list of the columns we want to plot\n",
        "decile_cols =['pp_dec_domain_supermarket_proximity',\n",
        "       'pp_dec_domain_supermarket_accessibility',\n",
        "       'pp_dec_domain_ecommerce_access', 'pp_dec_domain_socio_demographic',\n",
        "       'pp_dec_domain_nonsupermarket_proximity',\n",
        "       'pp_dec_domain_food_for_families', 'pp_dec_domain_fuel_poverty']\n",
        "\n",
        "# create a for loop for plotting a map of each domain\n",
        "# this saves writing out 7 blocks of code for each visualisation\n",
        "\n",
        "# for each item in a range from 0 to 7 (number of items in the deciles_cols list)\n",
        "for i in range (0, len(decile_cols)):\n",
        "\n",
        "    # produce a plot\n",
        "    fig, ax = plt.subplots(1, 1, figsize=(6, 6))\n",
        "\n",
        "    # get the ith item in the decile column list and plot\n",
        "    leeds_PPFI.plot(column=decile_cols[i],\n",
        "\n",
        "\n",
        "    #### format the plot ###\n",
        "\n",
        "    # reduce linewidth between polygons\n",
        "    linewidth =0.1,\n",
        "    # specify data is categorical (ordinal)\n",
        "    categorical=True,\n",
        "    # show the legend\n",
        "    legend=True,\n",
        "    # define the legend palette\n",
        "    cmap='RdBu',\n",
        "    # use the define axis\n",
        "    ax=ax,\n",
        "    # position the legend\n",
        "    legend_kwds={'loc': 'center left','bbox_to_anchor':(1,0.5)})\n",
        "\n",
        "    # add a title based on the column plotted, formatting the title to look better\n",
        "    plt.title(decile_cols[i].replace('_',' ').replace('pp dec domain ','').capitalize()+' domain in Leeds')\n",
        "\n",
        "    # do not plot with the axis showing\n",
        "    plt.axis('off')\n",
        "\n",
        "    # save the figure as an image with name reflecting the domain plotted\n",
        "    plt.savefig(str(decile_cols[i])+'_'+'Leeds'+'.jpg',bbox_inches='tight');"
      ]
    },
    {
      "cell_type": "markdown",
      "id": "81e00720-f856-4c2b-9d1b-4aa2c86536e0",
      "metadata": {
        "id": "81e00720-f856-4c2b-9d1b-4aa2c86536e0"
      },
      "source": [
        "### Explore the association between PPFI domains\n",
        "To better understand how the domains that make up the 'combined' PPFI index are associated we can plot a pair plot (each domain against the other domains)"
      ]
    },
    {
      "cell_type": "code",
      "execution_count": null,
      "id": "cd587b12-d605-4e93-a437-b5d8d8fb8311",
      "metadata": {
        "id": "cd587b12-d605-4e93-a437-b5d8d8fb8311"
      },
      "outputs": [],
      "source": [
        "# plot pairplot, adjust height so domain names fit on axis\n",
        "sns.pairplot(leeds_PPFI[['domain_supermarket_proximity',\n",
        "       'domain_supermarket_accessibility', 'domain_ecommerce_access',\n",
        "       'domain_socio_demographic', 'domain_nonsupermarket_proximity',\n",
        "       'domain_food_for_families', 'domain_fuel_poverty']], height=4)"
      ]
    },
    {
      "cell_type": "markdown",
      "id": "7dfb26a9-f44a-4d30-a8c2-9b0c5f8dbdef",
      "metadata": {
        "id": "7dfb26a9-f44a-4d30-a8c2-9b0c5f8dbdef"
      },
      "source": [
        "#### Quantify the association between PPFI domains using Spearman's rank correlation"
      ]
    },
    {
      "cell_type": "code",
      "execution_count": null,
      "id": "adc44e16-627f-4981-8b56-cd6a23199394",
      "metadata": {
        "id": "adc44e16-627f-4981-8b56-cd6a23199394"
      },
      "outputs": [],
      "source": [
        "# Calculate Spearman's rank correlation\n",
        "ppfi_domains_corr =leeds_PPFI[['domain_supermarket_proximity',\n",
        "       'domain_supermarket_accessibility', 'domain_ecommerce_access',\n",
        "       'domain_socio_demographic', 'domain_nonsupermarket_proximity',\n",
        "       'domain_food_for_families', 'domain_fuel_poverty']].corr(method = 'spearman')\n",
        "ppfi_domains_corr"
      ]
    },
    {
      "cell_type": "markdown",
      "id": "d4bbfc63-a7f5-4a3c-9c9c-6cd55437c100",
      "metadata": {
        "id": "d4bbfc63-a7f5-4a3c-9c9c-6cd55437c100"
      },
      "source": [
        "#### Visualise the Spearman's rank correlation of the PPFI domains"
      ]
    },
    {
      "cell_type": "code",
      "execution_count": null,
      "id": "a1a0c489-5449-4f11-8b71-be9b32cedf6b",
      "metadata": {
        "id": "a1a0c489-5449-4f11-8b71-be9b32cedf6b"
      },
      "outputs": [],
      "source": [
        "# define plot size\n",
        "fig,ax = plt.subplots(figsize=(8,8))\n",
        "\n",
        "# define mask to apply to upper right hand corner of the plot\n",
        "data_to_mask = np.triu(np.ones_like(ppfi_domains_corr))\n",
        "\n",
        "# define axis tick labels\n",
        "# get the index and the columns, replace the underscores with spaces and remove 'domain ' from the name\n",
        "x_axis_labels = ppfi_domains_corr.columns.str.replace('_',' ').str.replace('domain ','')\n",
        "y_axis_labels = ppfi_domains_corr.index.str.replace('_',' ').str.replace('domain ','')\n",
        "\n",
        "# Have a look at what the tick labels look like\n",
        "print('Labels:',x_axis_labels ,y_axis_labels)\n",
        "\n",
        "# If we want to capitalize each tick label\n",
        "# for each element in the list of x_axis_labels, capitalize it\n",
        "x_axis_labels = [element.capitalize() for element in x_axis_labels]\n",
        "y_axis_labels = [element.capitalize() for element in y_axis_labels]\n",
        "\n",
        "# look at the new labels\n",
        "print('Labels with capital letters:',x_axis_labels ,y_axis_labels)\n",
        "\n",
        "\n",
        "# plot a heatmap of the correlation dataframe\n",
        "sns.heatmap(ppfi_domains_corr,\n",
        "            # annotate so spearman's rank correlation values are displayed on the squares\n",
        "            annot=True,\n",
        "            # define colourmap\n",
        "            cmap='RdBu',\n",
        "            # define value of minimum colour on cbar\n",
        "            vmin=-1,\n",
        "            # define value of maximum colour on cbar\n",
        "            vmax=1,\n",
        "            # add the mask\n",
        "            mask=data_to_mask,\n",
        "            # use the custom tick labels\n",
        "            xticklabels=x_axis_labels,\n",
        "            yticklabels=y_axis_labels,\n",
        "            # add a label to the cbar\n",
        "            cbar_kws={'label': \"Spearman's Rank correlation\"},\n",
        "            # plot on the axis we defined\n",
        "            ax=ax)\n",
        "\n",
        "# Set axis labels\n",
        "ax.set(xlabel=\"Priority Places for Food Index Domains\",\n",
        "       ylabel=\"Priority Places for Food Index Domains\",\n",
        "      title ='Priority Places for Food Index Domain Correlation' );\n",
        "plt.savefig('Priority_Places_for_Food_Index_Domain_Correlation.png')"
      ]
    },
    {
      "cell_type": "markdown",
      "id": "d0a64193-6f52-43b8-929f-bae63cf67712",
      "metadata": {
        "id": "d0a64193-6f52-43b8-929f-bae63cf67712"
      },
      "source": [
        "#### Let's investigate what is going on the visualisation above.\n",
        "<b>What happens if you exclude 'mask=data_to_mask'?</b>"
      ]
    },
    {
      "cell_type": "code",
      "execution_count": null,
      "id": "2d201859-db44-4e81-894c-aa96286fc500",
      "metadata": {
        "id": "2d201859-db44-4e81-894c-aa96286fc500"
      },
      "outputs": [],
      "source": [
        "# define plot size\n",
        "fig,ax = plt.subplots(figsize=(8,8))\n",
        "\n",
        "# plot a heatmap of the correlation dataframe\n",
        "sns.heatmap(ppfi_domains_corr,\n",
        "            # annotate so spearman's rank correlation values are displayed on the squares\n",
        "            annot=True,\n",
        "            # define colourmap\n",
        "            cmap='RdBu',\n",
        "            # define value of minimum colour on cbar\n",
        "            vmin=-1,\n",
        "            # define value of maximum colour on cbar\n",
        "            vmax=1,\n",
        "            # comment out the mask\n",
        "            #mask=data_to_mask,\n",
        "            # use the custom tick labels\n",
        "            xticklabels=x_axis_labels,\n",
        "            yticklabels=y_axis_labels,\n",
        "            # add a label to the cbar\n",
        "            cbar_kws={'label': \"Spearman's Rank correlation\"},\n",
        "            # plot on the axis we defined\n",
        "            ax=ax)\n",
        "\n",
        "# Set axis labels\n",
        "ax.set(xlabel=\"Priority Places for Food Index Domains\",\n",
        "       ylabel=\"Priority Places for Food Index Domains\",\n",
        "      title ='Priority Places for Food Index Domain Correlation' );\n"
      ]
    },
    {
      "cell_type": "markdown",
      "id": "3fb48df3-4d0d-4199-9c51-ef75cd535bb2",
      "metadata": {
        "id": "3fb48df3-4d0d-4199-9c51-ef75cd535bb2"
      },
      "source": [
        "<b> Run the code below, to test what each part of the code does. </b>"
      ]
    },
    {
      "cell_type": "code",
      "execution_count": null,
      "id": "7e527703-d78f-4da4-9654-0275937aa61f",
      "metadata": {
        "id": "7e527703-d78f-4da4-9654-0275937aa61f"
      },
      "outputs": [],
      "source": [
        "# np.ones_like: Returns an array of ones with the same shape and type as a given array.\n",
        "np.ones_like(ppfi_domains_corr)"
      ]
    },
    {
      "cell_type": "code",
      "execution_count": null,
      "id": "6b3b769d-0c3a-4695-a882-d9e0dc719842",
      "metadata": {
        "id": "6b3b769d-0c3a-4695-a882-d9e0dc719842"
      },
      "outputs": [],
      "source": [
        "#np.triu() returns the Upper triangle of an array\n",
        "\n",
        "np.triu(np.ones_like(ppfi_domains_corr))"
      ]
    },
    {
      "cell_type": "markdown",
      "id": "802d7283-e374-4666-93ef-a9836484c059",
      "metadata": {
        "id": "802d7283-e374-4666-93ef-a9836484c059"
      },
      "source": [
        "In the function <code>sns.heatmap(mask) </code>, <code> mask<code> 'If passed, data will not be shown in cells where mask is True\" ie.e '1'\n",
        "\n",
        "So in out <code>np.triu(np.ones_like(ppfi_domains_corr))</code> array, only values were the array is 0 will be shown in the heatmap"
      ]
    },
    {
      "cell_type": "markdown",
      "id": "71aaed18-664c-4d6d-9a23-f9fa349b6548",
      "metadata": {
        "id": "71aaed18-664c-4d6d-9a23-f9fa349b6548"
      },
      "source": [
        "#### Comment out different parts of the code below to test you know what each parameter in the funciton is doing\n",
        "\n",
        "Look at the package documentation (https://seaborn.pydata.org/archive/0.11/generated/seaborn.heatmap.html) to see if you can add further features to the visualisation\n",
        "\n",
        "e.g. make the cbar horizontal or increase the line wdith between heatmap squares"
      ]
    },
    {
      "cell_type": "code",
      "execution_count": null,
      "id": "3986a667-f46f-4a94-a88f-3740c7030f06",
      "metadata": {
        "id": "3986a667-f46f-4a94-a88f-3740c7030f06"
      },
      "outputs": [],
      "source": [
        "# a copy of the code is here for you to explore what the different parameters do\n",
        "\n",
        "# define plot size\n",
        "fig,ax = plt.subplots(figsize=(8,8))\n",
        "# plot a heatmap of the correlation dataframe\n",
        "sns.heatmap(ppfi_domains_corr,\n",
        "            # annotate so spearman's rank correlation values are dispalyed on the squares\n",
        "            annot=True,\n",
        "            # define colourmap\n",
        "            cmap='RdBu',\n",
        "            # define value of minimum colour on cbar\n",
        "            vmin=-1,\n",
        "            # define value of maximum colour on cbar\n",
        "            vmax=1,\n",
        "            # add the mask\n",
        "            mask=data_to_mask,\n",
        "            # use the custom tick labels\n",
        "            xticklabels=x_axis_labels,\n",
        "            yticklabels=y_axis_labels,\n",
        "            # add a label to the cbar\n",
        "            cbar_kws={'label': \"Spearman's Rank correlation\"},\n",
        "            # plot on the axis we defined\n",
        "            ax=ax)\n",
        "\n",
        "# Set axis labels\n",
        "ax.set(xlabel=\"Priority Places for Food Index Domains\",\n",
        "       ylabel=\"Priority Places for Food Index Domains\",\n",
        "      title ='Priority Places for Food Index Domain Correlation' );"
      ]
    },
    {
      "cell_type": "markdown",
      "id": "c50deace-a277-4355-82b3-5f318a88afd4",
      "metadata": {
        "id": "c50deace-a277-4355-82b3-5f318a88afd4"
      },
      "source": [
        "## K-means clustering"
      ]
    },
    {
      "cell_type": "markdown",
      "id": "5d820d8e-e833-4232-916d-0e1f8d4a8620",
      "metadata": {
        "id": "5d820d8e-e833-4232-916d-0e1f8d4a8620"
      },
      "source": [
        "### Identify the number of clusters using the elbow method"
      ]
    },
    {
      "cell_type": "code",
      "execution_count": null,
      "id": "ff51b470-31d6-4d39-b929-7eea4ec292c6",
      "metadata": {
        "id": "ff51b470-31d6-4d39-b929-7eea4ec292c6"
      },
      "outputs": [],
      "source": [
        "# create an empty list to fill with values later\n",
        "Sum_of_squared_distances = []\n",
        "\n",
        "# get a range of numbers from 1 to 15\n",
        "K = range(1,15)\n",
        "#for each number in the range 1 to 15\n",
        "for k in K:\n",
        "    # create a k-means model with that number of clusters\n",
        "    # set random state\n",
        "    km = cluster.KMeans(n_clusters=k, init=\"random\", random_state=123)\n",
        "    # fit the model using the variables of interest (in this case the 7 PPFI domain deciles)\n",
        "    km = km.fit(leeds_PPFI[['pp_dec_domain_supermarket_proximity',\n",
        "       'pp_dec_domain_supermarket_accessibility',\n",
        "       'pp_dec_domain_ecommerce_access', 'pp_dec_domain_socio_demographic',\n",
        "       'pp_dec_domain_nonsupermarket_proximity',\n",
        "       'pp_dec_domain_food_for_families', 'pp_dec_domain_fuel_poverty']].values)\n",
        "    # calculate the sum of the squared distances and add this to the 'Sum_of_squared_distances' list we created earlier\n",
        "    Sum_of_squared_distances.append(km.inertia_)\n",
        "\n",
        "# plot the sum of squared distances against the number of clusters\n",
        "plt.plot(K, Sum_of_squared_distances, 'bx-')\n",
        "plt.xlabel('k')\n",
        "plt.ylabel('Sum_of_squared_distances')\n",
        "plt.title('Elbow Method For Optimal k')\n",
        "plt.show()"
      ]
    },
    {
      "cell_type": "markdown",
      "id": "3d9a50dd-578f-44ce-9c4d-3f859715d161",
      "metadata": {
        "id": "3d9a50dd-578f-44ce-9c4d-3f859715d161"
      },
      "source": [
        "As discussed in the lecture we want to find the point in the graph where increasing the number of clusters does not substantively reduce the sum of squared distances (the sum of the distances of each point in the data to its' cluster centroid).\n",
        "Here the 'elbow' is not too distinctive, I would argue 5 clusters would probably be best."
      ]
    },
    {
      "cell_type": "markdown",
      "id": "45173f34-6a78-44ce-9c77-abb34a6e4962",
      "metadata": {
        "id": "45173f34-6a78-44ce-9c77-abb34a6e4962"
      },
      "source": [
        "### Run the K-means model with N=5 clusters"
      ]
    },
    {
      "cell_type": "code",
      "execution_count": null,
      "id": "127a725c-a8b3-4c5d-b44e-c3c89077fe1c",
      "metadata": {
        "id": "127a725c-a8b3-4c5d-b44e-c3c89077fe1c"
      },
      "outputs": [],
      "source": [
        "# run the model with 5 clusters\n",
        "km5 = cluster.KMeans(n_clusters=5,init=\"random\", random_state=123)\n",
        "km5cls = km5.fit(leeds_PPFI[['pp_dec_domain_supermarket_proximity',\n",
        "       'pp_dec_domain_supermarket_accessibility',\n",
        "       'pp_dec_domain_ecommerce_access', 'pp_dec_domain_socio_demographic',\n",
        "       'pp_dec_domain_nonsupermarket_proximity',\n",
        "       'pp_dec_domain_food_for_families', 'pp_dec_domain_fuel_poverty']].values)\n"
      ]
    },
    {
      "cell_type": "code",
      "execution_count": null,
      "id": "84e18eda-28f4-4e40-bdfb-daf72ae81203",
      "metadata": {
        "id": "84e18eda-28f4-4e40-bdfb-daf72ae81203"
      },
      "outputs": [],
      "source": [
        "# let's look at the cluster labels (each LSOA has been assigned a cluster in this array)\n",
        "km5cls.labels_"
      ]
    },
    {
      "cell_type": "markdown",
      "id": "2a2d3c39-ac8c-4f2a-9b5c-b8eefffd7ea5",
      "metadata": {
        "id": "2a2d3c39-ac8c-4f2a-9b5c-b8eefffd7ea5"
      },
      "source": [
        "#### Let's create a new column with the cluster label  "
      ]
    },
    {
      "cell_type": "code",
      "execution_count": null,
      "id": "22cdbf4f-3ab4-4355-addd-7304d2d7edcf",
      "metadata": {
        "id": "22cdbf4f-3ab4-4355-addd-7304d2d7edcf"
      },
      "outputs": [],
      "source": [
        "# let's look at the cluster labels (each LSOA has been assigned a cluster in this array)\n",
        "\n",
        "leeds_PPFI['Cluster'] = km5cls.labels_\n",
        "leeds_PPFI['Cluster'].head()"
      ]
    },
    {
      "cell_type": "markdown",
      "id": "754224a6-8a08-45ac-9da8-38c43ab64390",
      "metadata": {
        "id": "754224a6-8a08-45ac-9da8-38c43ab64390"
      },
      "source": [
        "#### Create visualisation to understand the relationships captured in the clustering"
      ]
    },
    {
      "cell_type": "code",
      "execution_count": null,
      "id": "efa3a773-b3f7-4171-9e7e-bae4a433edda",
      "metadata": {
        "id": "efa3a773-b3f7-4171-9e7e-bae4a433edda"
      },
      "outputs": [],
      "source": [
        "# The pair plot gives us an idea of all the relationships between the domains captured by the clustering\n",
        "sns.pairplot(leeds_PPFI[['domain_supermarket_proximity',\n",
        "       'domain_supermarket_accessibility', 'domain_ecommerce_access',\n",
        "       'domain_socio_demographic', 'domain_nonsupermarket_proximity',\n",
        "       'domain_food_for_families', 'domain_fuel_poverty','Cluster']],\n",
        "             hue='Cluster',\n",
        "             palette='Dark2',\n",
        "            height=5)"
      ]
    },
    {
      "cell_type": "markdown",
      "id": "7653f634-3e47-4c63-a13c-45ef68af0f67",
      "metadata": {
        "id": "7653f634-3e47-4c63-a13c-45ef68af0f67"
      },
      "source": [
        "### Explore the clustering results\n",
        "#### Map the clusters to view any spatial relationship(s) between clusters"
      ]
    },
    {
      "cell_type": "code",
      "execution_count": null,
      "id": "f981f99b-42e1-417f-85ff-c9c498cad415",
      "metadata": {
        "id": "f981f99b-42e1-417f-85ff-c9c498cad415"
      },
      "outputs": [],
      "source": [
        "# We can also see that there is a spatial pattern to the clusters when we map them\n",
        "f, ax = plt.subplots(1, figsize=(9, 9))\n",
        "\n",
        "leeds_PPFI.plot(column='Cluster', categorical=True, legend=True, \\\n",
        "         linewidth=0.1, edgecolor='white', ax=ax)\n",
        "\n",
        "ax.set_axis_off()\n",
        "\n",
        "plt.show()"
      ]
    },
    {
      "cell_type": "markdown",
      "id": "527b8d78-5f36-4b5b-b33b-c3311b2a0239",
      "metadata": {
        "id": "527b8d78-5f36-4b5b-b33b-c3311b2a0239"
      },
      "source": [
        "#### Calculate summary statisitcs to compare clusters"
      ]
    },
    {
      "cell_type": "code",
      "execution_count": null,
      "id": "2e0ada23-a66d-4d33-b86e-4bc3fc00e69d",
      "metadata": {
        "id": "2e0ada23-a66d-4d33-b86e-4bc3fc00e69d"
      },
      "outputs": [],
      "source": [
        "# use groupby to get the median decile value of each PPFI domain by cluster\n",
        "leeds_PPFI_clusters_median=leeds_PPFI.groupby('Cluster')[['pp_dec_domain_supermarket_proximity',\n",
        "       'pp_dec_domain_supermarket_accessibility',\n",
        "       'pp_dec_domain_ecommerce_access', 'pp_dec_domain_socio_demographic',\n",
        "       'pp_dec_domain_nonsupermarket_proximity',\n",
        "       'pp_dec_domain_food_for_families', 'pp_dec_domain_fuel_poverty']].median().reset_index()"
      ]
    },
    {
      "cell_type": "code",
      "execution_count": null,
      "id": "8a1a8a8c-9ba5-4077-9cbe-17575b1271ef",
      "metadata": {
        "id": "8a1a8a8c-9ba5-4077-9cbe-17575b1271ef"
      },
      "outputs": [],
      "source": [
        "# have a look\n",
        "leeds_PPFI_clusters_median"
      ]
    },
    {
      "cell_type": "code",
      "execution_count": null,
      "id": "77650bc9-22b6-44ce-a7e1-2ff7c6e0edaf",
      "metadata": {
        "id": "77650bc9-22b6-44ce-a7e1-2ff7c6e0edaf"
      },
      "outputs": [],
      "source": [
        "# let's transform the data from a 'wide' format to a 'long' format to plot\n",
        "leeds_PPFI_clusters_median_to_plot =pd.melt(leeds_PPFI_clusters_median,id_vars='Cluster',\n",
        "                                            value_vars=['pp_dec_domain_supermarket_proximity',\n",
        "       'pp_dec_domain_supermarket_accessibility',\n",
        "       'pp_dec_domain_ecommerce_access', 'pp_dec_domain_socio_demographic',\n",
        "       'pp_dec_domain_nonsupermarket_proximity',\n",
        "       'pp_dec_domain_food_for_families', 'pp_dec_domain_fuel_poverty'])"
      ]
    },
    {
      "cell_type": "code",
      "execution_count": null,
      "id": "62e2e33f-5aa7-47f4-b007-04b4bbd56eaa",
      "metadata": {
        "id": "62e2e33f-5aa7-47f4-b007-04b4bbd56eaa"
      },
      "outputs": [],
      "source": [
        "# check what the data now look like\n",
        "leeds_PPFI_clusters_median_to_plot.head()"
      ]
    },
    {
      "cell_type": "code",
      "execution_count": null,
      "id": "c7570d95-24a3-4e27-a054-350e71a02b7d",
      "metadata": {
        "id": "c7570d95-24a3-4e27-a054-350e71a02b7d"
      },
      "outputs": [],
      "source": [
        "# rename columns ot be more intuitive\n",
        "leeds_PPFI_clusters_median_to_plot.columns = ['Cluster','Priority Places Domain','Median decile']"
      ]
    },
    {
      "cell_type": "code",
      "execution_count": null,
      "id": "5620e7b7-d385-43b5-ba92-cd3c308c4de9",
      "metadata": {
        "id": "5620e7b7-d385-43b5-ba92-cd3c308c4de9"
      },
      "outputs": [],
      "source": [
        "# check what the data now look like\n",
        "leeds_PPFI_clusters_median_to_plot.head()"
      ]
    },
    {
      "cell_type": "markdown",
      "id": "244fa6ac-0f83-4210-a769-56eb129d854b",
      "metadata": {
        "id": "244fa6ac-0f83-4210-a769-56eb129d854b"
      },
      "source": [
        "#### Visualise Cluster by average (median) domain values"
      ]
    },
    {
      "cell_type": "code",
      "execution_count": null,
      "id": "b187214b-ec4b-49a8-b0f2-9ba1afc761b2",
      "metadata": {
        "id": "b187214b-ec4b-49a8-b0f2-9ba1afc761b2"
      },
      "outputs": [],
      "source": [
        "# Plot a faceted bar chart, where each row is a different cluster\n",
        "\n",
        "sns.catplot(leeds_PPFI_clusters_median_to_plot,\n",
        "            row='Cluster',\n",
        "            y='Priority Places Domain',\n",
        "            x='Median decile',\n",
        "            kind='bar',\n",
        "            aspect=4,\n",
        "            hue='Median decile',\n",
        "            palette='autumn')\n",
        "plt.savefig('cluster_domains_overview.png')"
      ]
    },
    {
      "cell_type": "markdown",
      "id": "ec073421-28a6-4d2f-84cb-80cf83b5e767",
      "metadata": {
        "id": "ec073421-28a6-4d2f-84cb-80cf83b5e767"
      },
      "source": [
        "### Name clusters using generated cluster summaries\n",
        "\n",
        "Cluster '0','1' etc... are not that intuative, we can instead create a new variable and assign a Cluster description."
      ]
    },
    {
      "cell_type": "code",
      "execution_count": null,
      "id": "319d4d02-8929-4dc8-b67c-1f6c2a9fca27",
      "metadata": {
        "id": "319d4d02-8929-4dc8-b67c-1f6c2a9fca27"
      },
      "outputs": [],
      "source": [
        "# create empty column\n",
        "leeds_PPFI['Cluster_description']=\"\""
      ]
    },
    {
      "cell_type": "markdown",
      "id": "ed3c848c-ed22-47ee-a22d-2249f99236f6",
      "metadata": {
        "id": "ed3c848c-ed22-47ee-a22d-2249f99236f6"
      },
      "source": [
        "Wrtie your own cluster descriptions using the graph above, your clusters might look different to mine.  \n",
        "e.g. <br>\n",
        "<code> leeds_PPFI.loc[leeds_PPFI['Cluster']==1,'Cluster_description']='More likely to be choosing between heat or eat'</code> <br>\n",
        "<code> leeds_PPFI.loc[leeds_PPFI['Cluster']==2,'Cluster_description']='Struggling to access and afford food'</code><br>\n",
        "<code> leeds_PPFI.loc[leeds_PPFI['Cluster']==3,'Cluster_description']='Struggling to access supermarkets'</code><br>\n"
      ]
    },
    {
      "cell_type": "code",
      "execution_count": null,
      "id": "1baf99dd-d3fb-4697-9f0e-c3edb45cd8c8",
      "metadata": {
        "id": "1baf99dd-d3fb-4697-9f0e-c3edb45cd8c8"
      },
      "outputs": [],
      "source": [
        "# edit to add your cluster descriptions\n",
        "leeds_PPFI.loc[leeds_PPFI['Cluster']==0,'Cluster_description']=''\n",
        "leeds_PPFI.loc[leeds_PPFI['Cluster']==1,'Cluster_description']=''\n",
        "leeds_PPFI.loc[leeds_PPFI['Cluster']==2,'Cluster_description']=''\n",
        "leeds_PPFI.loc[leeds_PPFI['Cluster']==3,'Cluster_description']=''\n",
        "leeds_PPFI.loc[leeds_PPFI['Cluster']==4,'Cluster_description']=''\n"
      ]
    },
    {
      "cell_type": "markdown",
      "id": "eb99dad3-fdd8-4fd1-9005-e3d75b06525a",
      "metadata": {
        "id": "eb99dad3-fdd8-4fd1-9005-e3d75b06525a"
      },
      "source": [
        "### Visualise Cluster Description"
      ]
    },
    {
      "cell_type": "code",
      "execution_count": null,
      "id": "a10c9ba3-9bdf-4a69-abea-5437b198fc21",
      "metadata": {
        "id": "a10c9ba3-9bdf-4a69-abea-5437b198fc21"
      },
      "outputs": [],
      "source": [
        "# use hex colours to define my own cmap,\n",
        "# cbind friendly palette colours taken from: https://davidmathlogic.com/colorblind/#%23648FFF-%23785EF0-%23DC267F-%23FE6100-%23FFB000\n",
        "my_cmap=['#FFB000','#785EF0','#DC267F','#FE6100','#648FFF']"
      ]
    },
    {
      "cell_type": "markdown",
      "id": "988d48fb-8e74-416e-87ba-1f0b00600d2a",
      "metadata": {
        "id": "988d48fb-8e74-416e-87ba-1f0b00600d2a"
      },
      "source": [
        "#### Map cluster descriptions"
      ]
    },
    {
      "cell_type": "code",
      "execution_count": null,
      "id": "0b00c67e-ce77-431a-88af-9c433fbcf0c9",
      "metadata": {
        "id": "0b00c67e-ce77-431a-88af-9c433fbcf0c9"
      },
      "outputs": [],
      "source": [
        "# Plot your cluster descriptions on the map\n",
        "map =leeds_PPFI.sort_values('Cluster_description').explore('Cluster_description', categorical =True, cmap=my_cmap)\n",
        "\n",
        "# save to html file\n",
        "map.save(\"leeds_PPFI_cluster_map.html\")\n",
        "\n",
        "# view map\n",
        "map"
      ]
    },
    {
      "cell_type": "markdown",
      "id": "de4d164c-0b3d-4ed9-bbaa-0176eabd547f",
      "metadata": {
        "id": "de4d164c-0b3d-4ed9-bbaa-0176eabd547f"
      },
      "source": [
        "### Reproduce pairplot with Cluster descriptions"
      ]
    },
    {
      "cell_type": "code",
      "execution_count": null,
      "id": "de3517c3-1bc8-4cee-aad9-ba61b520409a",
      "metadata": {
        "id": "de3517c3-1bc8-4cee-aad9-ba61b520409a"
      },
      "outputs": [],
      "source": [
        "sns.pairplot(leeds_PPFI[['domain_supermarket_proximity',\n",
        "       'domain_supermarket_accessibility', 'domain_ecommerce_access',\n",
        "       'domain_socio_demographic', 'domain_nonsupermarket_proximity',\n",
        "       'domain_food_for_families', 'domain_fuel_poverty','Cluster_description']].sort_values('Cluster_description'),\n",
        "             hue='Cluster_description',\n",
        "             palette=my_cmap,\n",
        "            height=4)"
      ]
    },
    {
      "cell_type": "markdown",
      "source": [
        "##Stretch activity:\n",
        "\n",
        "1.   Go to https://www.ons.gov.uk/census/maps/?lad=E08000035 and downlaod some 2021 Census population data for Leeds.\n",
        "2.   Upload this into youe google drive, read it in to your .ipynb notebook\n",
        "3.   Join the popualtion data to the clustered data (leeds_PPFI).\n",
        "4.   Investigate wehther different clusters have different demosgrpahci characterisitcs, using all you data exploration and dat visualisation skills you have devleoped over the last 7 weeks.\n"
      ],
      "metadata": {
        "id": "9XtmshiQeBc7"
      },
      "id": "9XtmshiQeBc7"
    },
    {
      "cell_type": "code",
      "source": [
        "from google.colab import drive\n",
        "drive.mount(\"/content/drive\")"
      ],
      "metadata": {
        "id": "Kpah13aEc_H9",
        "colab": {
          "base_uri": "https://localhost:8080/"
        },
        "outputId": "66c6030e-38a2-46e9-97e2-57403b8ca8d9"
      },
      "id": "Kpah13aEc_H9",
      "execution_count": null,
      "outputs": [
        {
          "output_type": "stream",
          "name": "stdout",
          "text": [
            "Mounted at /content/drive\n"
          ]
        }
      ]
    },
    {
      "cell_type": "code",
      "source": [
        "!jupyter nbconvert --to pdf --output test.pdf Week_7_Spatial_Analysis.ipynb"
      ],
      "metadata": {
        "colab": {
          "base_uri": "https://localhost:8080/"
        },
        "id": "obaYCdEe2Ny4",
        "outputId": "8abcc318-d8e8-413e-cd66-65129d66f374"
      },
      "id": "obaYCdEe2Ny4",
      "execution_count": null,
      "outputs": [
        {
          "output_type": "stream",
          "name": "stdout",
          "text": [
            "[NbConvertApp] WARNING | pattern 'Week_7_Spatial_Analysis.ipynb' matched no files\n",
            "This application is used to convert notebook files (*.ipynb)\n",
            "        to various other formats.\n",
            "\n",
            "        WARNING: THE COMMANDLINE INTERFACE MAY CHANGE IN FUTURE RELEASES.\n",
            "\n",
            "Options\n",
            "=======\n",
            "The options below are convenience aliases to configurable class-options,\n",
            "as listed in the \"Equivalent to\" description-line of the aliases.\n",
            "To see all configurable class-options for some <cmd>, use:\n",
            "    <cmd> --help-all\n",
            "\n",
            "--debug\n",
            "    set log level to logging.DEBUG (maximize logging output)\n",
            "    Equivalent to: [--Application.log_level=10]\n",
            "--show-config\n",
            "    Show the application's configuration (human-readable format)\n",
            "    Equivalent to: [--Application.show_config=True]\n",
            "--show-config-json\n",
            "    Show the application's configuration (json format)\n",
            "    Equivalent to: [--Application.show_config_json=True]\n",
            "--generate-config\n",
            "    generate default config file\n",
            "    Equivalent to: [--JupyterApp.generate_config=True]\n",
            "-y\n",
            "    Answer yes to any questions instead of prompting.\n",
            "    Equivalent to: [--JupyterApp.answer_yes=True]\n",
            "--execute\n",
            "    Execute the notebook prior to export.\n",
            "    Equivalent to: [--ExecutePreprocessor.enabled=True]\n",
            "--allow-errors\n",
            "    Continue notebook execution even if one of the cells throws an error and include the error message in the cell output (the default behaviour is to abort conversion). This flag is only relevant if '--execute' was specified, too.\n",
            "    Equivalent to: [--ExecutePreprocessor.allow_errors=True]\n",
            "--stdin\n",
            "    read a single notebook file from stdin. Write the resulting notebook with default basename 'notebook.*'\n",
            "    Equivalent to: [--NbConvertApp.from_stdin=True]\n",
            "--stdout\n",
            "    Write notebook output to stdout instead of files.\n",
            "    Equivalent to: [--NbConvertApp.writer_class=StdoutWriter]\n",
            "--inplace\n",
            "    Run nbconvert in place, overwriting the existing notebook (only\n",
            "            relevant when converting to notebook format)\n",
            "    Equivalent to: [--NbConvertApp.use_output_suffix=False --NbConvertApp.export_format=notebook --FilesWriter.build_directory=]\n",
            "--clear-output\n",
            "    Clear output of current file and save in place,\n",
            "            overwriting the existing notebook.\n",
            "    Equivalent to: [--NbConvertApp.use_output_suffix=False --NbConvertApp.export_format=notebook --FilesWriter.build_directory= --ClearOutputPreprocessor.enabled=True]\n",
            "--coalesce-streams\n",
            "    Coalesce consecutive stdout and stderr outputs into one stream (within each cell).\n",
            "    Equivalent to: [--NbConvertApp.use_output_suffix=False --NbConvertApp.export_format=notebook --FilesWriter.build_directory= --CoalesceStreamsPreprocessor.enabled=True]\n",
            "--no-prompt\n",
            "    Exclude input and output prompts from converted document.\n",
            "    Equivalent to: [--TemplateExporter.exclude_input_prompt=True --TemplateExporter.exclude_output_prompt=True]\n",
            "--no-input\n",
            "    Exclude input cells and output prompts from converted document.\n",
            "            This mode is ideal for generating code-free reports.\n",
            "    Equivalent to: [--TemplateExporter.exclude_output_prompt=True --TemplateExporter.exclude_input=True --TemplateExporter.exclude_input_prompt=True]\n",
            "--allow-chromium-download\n",
            "    Whether to allow downloading chromium if no suitable version is found on the system.\n",
            "    Equivalent to: [--WebPDFExporter.allow_chromium_download=True]\n",
            "--disable-chromium-sandbox\n",
            "    Disable chromium security sandbox when converting to PDF..\n",
            "    Equivalent to: [--WebPDFExporter.disable_sandbox=True]\n",
            "--show-input\n",
            "    Shows code input. This flag is only useful for dejavu users.\n",
            "    Equivalent to: [--TemplateExporter.exclude_input=False]\n",
            "--embed-images\n",
            "    Embed the images as base64 dataurls in the output. This flag is only useful for the HTML/WebPDF/Slides exports.\n",
            "    Equivalent to: [--HTMLExporter.embed_images=True]\n",
            "--sanitize-html\n",
            "    Whether the HTML in Markdown cells and cell outputs should be sanitized..\n",
            "    Equivalent to: [--HTMLExporter.sanitize_html=True]\n",
            "--log-level=<Enum>\n",
            "    Set the log level by value or name.\n",
            "    Choices: any of [0, 10, 20, 30, 40, 50, 'DEBUG', 'INFO', 'WARN', 'ERROR', 'CRITICAL']\n",
            "    Default: 30\n",
            "    Equivalent to: [--Application.log_level]\n",
            "--config=<Unicode>\n",
            "    Full path of a config file.\n",
            "    Default: ''\n",
            "    Equivalent to: [--JupyterApp.config_file]\n",
            "--to=<Unicode>\n",
            "    The export format to be used, either one of the built-in formats\n",
            "            ['asciidoc', 'custom', 'html', 'latex', 'markdown', 'notebook', 'pdf', 'python', 'qtpdf', 'qtpng', 'rst', 'script', 'slides', 'webpdf']\n",
            "            or a dotted object name that represents the import path for an\n",
            "            ``Exporter`` class\n",
            "    Default: ''\n",
            "    Equivalent to: [--NbConvertApp.export_format]\n",
            "--template=<Unicode>\n",
            "    Name of the template to use\n",
            "    Default: ''\n",
            "    Equivalent to: [--TemplateExporter.template_name]\n",
            "--template-file=<Unicode>\n",
            "    Name of the template file to use\n",
            "    Default: None\n",
            "    Equivalent to: [--TemplateExporter.template_file]\n",
            "--theme=<Unicode>\n",
            "    Template specific theme(e.g. the name of a JupyterLab CSS theme distributed\n",
            "    as prebuilt extension for the lab template)\n",
            "    Default: 'light'\n",
            "    Equivalent to: [--HTMLExporter.theme]\n",
            "--sanitize_html=<Bool>\n",
            "    Whether the HTML in Markdown cells and cell outputs should be sanitized.This\n",
            "    should be set to True by nbviewer or similar tools.\n",
            "    Default: False\n",
            "    Equivalent to: [--HTMLExporter.sanitize_html]\n",
            "--writer=<DottedObjectName>\n",
            "    Writer class used to write the\n",
            "                                        results of the conversion\n",
            "    Default: 'FilesWriter'\n",
            "    Equivalent to: [--NbConvertApp.writer_class]\n",
            "--post=<DottedOrNone>\n",
            "    PostProcessor class used to write the\n",
            "                                        results of the conversion\n",
            "    Default: ''\n",
            "    Equivalent to: [--NbConvertApp.postprocessor_class]\n",
            "--output=<Unicode>\n",
            "    Overwrite base name use for output files.\n",
            "                Supports pattern replacements '{notebook_name}'.\n",
            "    Default: '{notebook_name}'\n",
            "    Equivalent to: [--NbConvertApp.output_base]\n",
            "--output-dir=<Unicode>\n",
            "    Directory to write output(s) to. Defaults\n",
            "                                  to output to the directory of each notebook. To recover\n",
            "                                  previous default behaviour (outputting to the current\n",
            "                                  working directory) use . as the flag value.\n",
            "    Default: ''\n",
            "    Equivalent to: [--FilesWriter.build_directory]\n",
            "--reveal-prefix=<Unicode>\n",
            "    The URL prefix for reveal.js (version 3.x).\n",
            "            This defaults to the reveal CDN, but can be any url pointing to a copy\n",
            "            of reveal.js.\n",
            "            For speaker notes to work, this must be a relative path to a local\n",
            "            copy of reveal.js: e.g., \"reveal.js\".\n",
            "            If a relative path is given, it must be a subdirectory of the\n",
            "            current directory (from which the server is run).\n",
            "            See the usage documentation\n",
            "            (https://nbconvert.readthedocs.io/en/latest/usage.html#reveal-js-html-slideshow)\n",
            "            for more details.\n",
            "    Default: ''\n",
            "    Equivalent to: [--SlidesExporter.reveal_url_prefix]\n",
            "--nbformat=<Enum>\n",
            "    The nbformat version to write.\n",
            "            Use this to downgrade notebooks.\n",
            "    Choices: any of [1, 2, 3, 4]\n",
            "    Default: 4\n",
            "    Equivalent to: [--NotebookExporter.nbformat_version]\n",
            "\n",
            "Examples\n",
            "--------\n",
            "\n",
            "    The simplest way to use nbconvert is\n",
            "\n",
            "            > jupyter nbconvert mynotebook.ipynb --to html\n",
            "\n",
            "            Options include ['asciidoc', 'custom', 'html', 'latex', 'markdown', 'notebook', 'pdf', 'python', 'qtpdf', 'qtpng', 'rst', 'script', 'slides', 'webpdf'].\n",
            "\n",
            "            > jupyter nbconvert --to latex mynotebook.ipynb\n",
            "\n",
            "            Both HTML and LaTeX support multiple output templates. LaTeX includes\n",
            "            'base', 'article' and 'report'.  HTML includes 'basic', 'lab' and\n",
            "            'classic'. You can specify the flavor of the format used.\n",
            "\n",
            "            > jupyter nbconvert --to html --template lab mynotebook.ipynb\n",
            "\n",
            "            You can also pipe the output to stdout, rather than a file\n",
            "\n",
            "            > jupyter nbconvert mynotebook.ipynb --stdout\n",
            "\n",
            "            PDF is generated via latex\n",
            "\n",
            "            > jupyter nbconvert mynotebook.ipynb --to pdf\n",
            "\n",
            "            You can get (and serve) a Reveal.js-powered slideshow\n",
            "\n",
            "            > jupyter nbconvert myslides.ipynb --to slides --post serve\n",
            "\n",
            "            Multiple notebooks can be given at the command line in a couple of\n",
            "            different ways:\n",
            "\n",
            "            > jupyter nbconvert notebook*.ipynb\n",
            "            > jupyter nbconvert notebook1.ipynb notebook2.ipynb\n",
            "\n",
            "            or you can specify the notebooks list in a config file, containing::\n",
            "\n",
            "                c.NbConvertApp.notebooks = [\"my_notebook.ipynb\"]\n",
            "\n",
            "            > jupyter nbconvert --config mycfg.py\n",
            "\n",
            "To see all available configurables, use `--help-all`.\n",
            "\n"
          ]
        }
      ]
    },
    {
      "cell_type": "code",
      "source": [
        "from google.colab import drive\n",
        "drive.mount('/content/drive')"
      ],
      "metadata": {
        "id": "RZ0K5qx92uYD",
        "outputId": "b11e83c2-afe8-4230-fa2a-2fb905cabb6f",
        "colab": {
          "base_uri": "https://localhost:8080/"
        }
      },
      "id": "RZ0K5qx92uYD",
      "execution_count": 2,
      "outputs": [
        {
          "output_type": "stream",
          "name": "stdout",
          "text": [
            "Mounted at /content/drive\n"
          ]
        }
      ]
    },
    {
      "cell_type": "code",
      "source": [
        "!git config --global user.email \"f.l.pontin@leeds.ac.uk\"\n",
        "!git config --global user.name \"FrancescaPontin\""
      ],
      "metadata": {
        "id": "tNPr2ZLHIeVN"
      },
      "id": "tNPr2ZLHIeVN",
      "execution_count": 3,
      "outputs": []
    },
    {
      "cell_type": "code",
      "source": [
        "!git clone https://github.com/FrancescaPontin/GEOG5990m_test"
      ],
      "metadata": {
        "id": "ba9EL0lyImia",
        "outputId": "851577d3-1ec5-4514-b26c-f8534666cebc",
        "colab": {
          "base_uri": "https://localhost:8080/"
        }
      },
      "id": "ba9EL0lyImia",
      "execution_count": 4,
      "outputs": [
        {
          "output_type": "stream",
          "name": "stdout",
          "text": [
            "Cloning into 'GEOG5990m_test'...\n",
            "remote: Enumerating objects: 9, done.\u001b[K\n",
            "remote: Counting objects: 100% (9/9), done.\u001b[K\n",
            "remote: Compressing objects: 100% (8/8), done.\u001b[K\n",
            "remote: Total 9 (delta 0), reused 0 (delta 0), pack-reused 0 (from 0)\u001b[K\n",
            "Receiving objects: 100% (9/9), 16.19 KiB | 1.35 MiB/s, done.\n"
          ]
        }
      ]
    },
    {
      "cell_type": "code",
      "source": [
        "!cp /content/drive/MyDrive/output_area_to_lsoa_msoa_lad_2021.geojson /content/GEOG5990m_test/"
      ],
      "metadata": {
        "id": "Z0nMidkVIxNr"
      },
      "id": "Z0nMidkVIxNr",
      "execution_count": 5,
      "outputs": []
    },
    {
      "cell_type": "code",
      "source": [
        "%cd /content/GEOG5990m_test\n",
        "!git add .\n",
        "!git commit -m \"Add files from Google Drive\"\n",
        "!git push origin main"
      ],
      "metadata": {
        "id": "T-XwNUThJ1ul",
        "outputId": "cfb7cb60-3ff5-4797-dc8e-86c6e7719249",
        "colab": {
          "base_uri": "https://localhost:8080/"
        }
      },
      "id": "T-XwNUThJ1ul",
      "execution_count": 6,
      "outputs": [
        {
          "output_type": "stream",
          "name": "stdout",
          "text": [
            "/content/GEOG5990m_test\n",
            "[main 4f5ce6a] Add files from Google Drive\n",
            " 1 file changed, 1 insertion(+)\n",
            " create mode 100644 output_area_to_lsoa_msoa_lad_2021.geojson\n",
            "fatal: could not read Username for 'https://github.com': No such device or address\n"
          ]
        }
      ]
    }
  ],
  "metadata": {
    "kernelspec": {
      "display_name": "Python 3 (ipykernel)",
      "language": "python",
      "name": "python3"
    },
    "language_info": {
      "codemirror_mode": {
        "name": "ipython",
        "version": 3
      },
      "file_extension": ".py",
      "mimetype": "text/x-python",
      "name": "python",
      "nbconvert_exporter": "python",
      "pygments_lexer": "ipython3",
      "version": "3.11.6"
    },
    "colab": {
      "provenance": [],
      "include_colab_link": true
    }
  },
  "nbformat": 4,
  "nbformat_minor": 5
}